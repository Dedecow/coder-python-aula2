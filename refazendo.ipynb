{
 "cells": [
  {
   "cell_type": "code",
   "execution_count": 2,
   "metadata": {},
   "outputs": [
    {
     "ename": "ModuleNotFoundError",
     "evalue": "No module named 'plyer'",
     "output_type": "error",
     "traceback": [
      "\u001b[0;31m---------------------------------------------------------------------------\u001b[0m",
      "\u001b[0;31mModuleNotFoundError\u001b[0m                       Traceback (most recent call last)",
      "Cell \u001b[0;32mIn[2], line 1\u001b[0m\n\u001b[0;32m----> 1\u001b[0m \u001b[38;5;28;01mfrom\u001b[39;00m \u001b[38;5;21;01mplyer\u001b[39;00m \u001b[38;5;28;01mimport\u001b[39;00m notification\n\u001b[1;32m      3\u001b[0m \u001b[38;5;28;01mdef\u001b[39;00m \u001b[38;5;21malertaMensagem\u001b[39m(titulo, mensagem):\n\u001b[1;32m      4\u001b[0m     notification\u001b[38;5;241m.\u001b[39mnotify(\n\u001b[1;32m      5\u001b[0m         title\u001b[38;5;241m=\u001b[39mtitulo,\n\u001b[1;32m      6\u001b[0m         message\u001b[38;5;241m=\u001b[39mmensagem\n\u001b[1;32m      7\u001b[0m     )\n",
      "\u001b[0;31mModuleNotFoundError\u001b[0m: No module named 'plyer'"
     ]
    }
   ],
   "source": [
    "from plyer import notification\n",
    "\n",
    "def alertaMensagem(titulo, mensagem):\n",
    "    notification.notify(\n",
    "        title=titulo,\n",
    "        message=mensagem\n",
    "    )\n",
    "\n",
    "alertaMensagem(\"Aviso\", \"Este é um alerta de teste!\")\n"
   ]
  },
  {
   "cell_type": "code",
   "execution_count": null,
   "metadata": {},
   "outputs": [],
   "source": [
    "notificacoes = (\n",
    "    (\"Missao de Emergencia\", \"Primeiros Passos\", \"Falha no carregamento da base de Primeiros Passos na etapa de Aprender Python.\"),\n",
    "    (\"Alerta do Holodeck\", \"Exploracao e Criatividade\", \"Falha no carregamento da base de Exploracao e Criatividade na etapa de criar um novo planeta no holodeck.\"),\n",
    "    (\"Analise de Dados\", \"Depuracao e Revisao\", \"Falha no carregamento da base de Depuracao e Revisao na etapa de detectar um bug no programa.\"),\n",
    "    (\"Relatorio do Capitao\", \"Conclusao\", \"Falha no carregamento da base de Conclusao na etapa de finalizar a tarefa.\")\n",
    ")"
   ]
  },
  {
   "cell_type": "code",
   "execution_count": null,
   "metadata": {},
   "outputs": [],
   "source": [
    "list(map(lambda n: alertaMensagem(n[0], n[2]), notificacoes))\n"
   ]
  }
 ],
 "metadata": {
  "kernelspec": {
   "display_name": "Python 3",
   "language": "python",
   "name": "python3"
  },
  "language_info": {
   "codemirror_mode": {
    "name": "ipython",
    "version": 3
   },
   "file_extension": ".py",
   "mimetype": "text/x-python",
   "name": "python",
   "nbconvert_exporter": "python",
   "pygments_lexer": "ipython3",
   "version": "3.12.3"
  }
 },
 "nbformat": 4,
 "nbformat_minor": 2
}
