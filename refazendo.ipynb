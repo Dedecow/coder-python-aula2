{
 "cells": [
  {
   "cell_type": "code",
   "execution_count": 1,
   "metadata": {},
   "outputs": [
    {
     "name": "stderr",
     "output_type": "stream",
     "text": [
      "/home/dedeh-e-jo/anaconda3/lib/python3.12/site-packages/plyer/platforms/linux/notification.py:103: UserWarning: The Python dbus package is not installed.\n",
      "Try installing it with your distribution's package manager, it is usually called python-dbus or python3-dbus, but you might have to try dbus-python instead, e.g. when using pip.\n",
      "  warnings.warn(msg)\n",
      "\n",
      "(notify-send:3862): libnotify-WARNING **: 20:46:17.272: Running in confined mode, using Portal notifications. Some features and hints won't be supported\n"
     ]
    }
   ],
   "source": [
    "from plyer import notification\n",
    "\n",
    "def alertaMensagem(titulo, mensagem):\n",
    "    notification.notify(\n",
    "        title=titulo,\n",
    "        message=mensagem\n",
    "    )\n",
    "\n",
    "alertaMensagem(\"Aviso\", \"Este é um alerta de teste!\")\n"
   ]
  },
  {
   "cell_type": "code",
   "execution_count": 2,
   "metadata": {},
   "outputs": [],
   "source": [
    "notificacoes = (\n",
    "    (\"Missao de Emergencia\", \"Primeiros Passos\", \"Falha no carregamento da base de Primeiros Passos na etapa de Aprender Python.\"),\n",
    "    (\"Alerta do Holodeck\", \"Exploracao e Criatividade\", \"Falha no carregamento da base de Exploracao e Criatividade na etapa de criar um novo planeta no holodeck.\"),\n",
    "    (\"Analise de Dados\", \"Depuracao e Revisao\", \"Falha no carregamento da base de Depuracao e Revisao na etapa de detectar um bug no programa.\"),\n",
    "    (\"Relatorio do Capitao\", \"Conclusao\", \"Falha no carregamento da base de Conclusao na etapa de finalizar a tarefa.\")\n",
    ")"
   ]
  },
  {
   "cell_type": "code",
   "execution_count": 3,
   "metadata": {},
   "outputs": [
    {
     "name": "stderr",
     "output_type": "stream",
     "text": [
      "\n",
      "(notify-send:3897): libnotify-WARNING **: 20:46:20.132: Running in confined mode, using Portal notifications. Some features and hints won't be supported\n",
      "\n",
      "(notify-send:3965): libnotify-WARNING **: 20:46:21.424: Running in confined mode, using Portal notifications. Some features and hints won't be supported\n",
      "\n",
      "(notify-send:4056): libnotify-WARNING **: 20:46:22.689: Running in confined mode, using Portal notifications. Some features and hints won't be supported\n",
      "\n",
      "(notify-send:4069): libnotify-WARNING **: 20:46:23.978: Running in confined mode, using Portal notifications. Some features and hints won't be supported\n"
     ]
    },
    {
     "data": {
      "text/plain": [
       "[None, None, None, None]"
      ]
     },
     "execution_count": 3,
     "metadata": {},
     "output_type": "execute_result"
    }
   ],
   "source": [
    "list(map(lambda n: alertaMensagem(n[0], n[2]), notificacoes))\n"
   ]
  }
 ],
 "metadata": {
  "kernelspec": {
   "display_name": "base",
   "language": "python",
   "name": "python3"
  },
  "language_info": {
   "codemirror_mode": {
    "name": "ipython",
    "version": 3
   },
   "file_extension": ".py",
   "mimetype": "text/x-python",
   "name": "python",
   "nbconvert_exporter": "python",
   "pygments_lexer": "ipython3",
   "version": "3.12.7"
  }
 },
 "nbformat": 4,
 "nbformat_minor": 2
}
