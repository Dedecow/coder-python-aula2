{
 "cells": [
  {
   "cell_type": "code",
   "execution_count": null,
   "metadata": {
    "vscode": {
     "languageId": "plaintext"
    }
   },
   "outputs": [],
   "source": [
    "from plyer import notification\n",
    "\n",
    "def alertaMensagem (titulo, mensagem):\n",
    "    notification.notify(\n",
    "        title = titulo,\n",
    "        mensage = mensagem\n",
    "    )\n",
    "\n",
    "notificacoes = [\n",
    "    (\"Missao de Emergencia\", \"Aprender Python eh mais facil que decifrar a Primeira Diretiva.\"),\n",
    "    (\"Alerta do Holodeck\", \"Criar um programa eh como construir um novo planeta no holodeck, capitao.\"),\n",
    "    (\"Analise de Dados\", \"Detectamos um bug em seu programa. Chamem o Spock para ponte de comando.\"),\n",
    "    (\"Relatorio do Capitao\", \"Parece que a tarefa esta pronta! Capitao Kirk desliga.\")\n",
    "]\n",
    "\n",
    "\n",
    "list(map(lambda n: alertaMensagem(n[0], n[1]), notificacoes))\n"
   ]
  },
  {
   "cell_type": "code",
   "execution_count": null,
   "metadata": {
    "vscode": {
     "languageId": "plaintext"
    }
   },
   "outputs": [],
   "source": []
  }
 ],
 "metadata": {
  "language_info": {
   "name": "python"
  }
 },
 "nbformat": 4,
 "nbformat_minor": 2
}
