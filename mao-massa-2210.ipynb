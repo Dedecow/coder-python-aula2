{
 "cells": [
  {
   "cell_type": "code",
   "execution_count": null,
   "metadata": {
    "vscode": {
     "languageId": "plaintext"
    }
   },
   "outputs": [],
   "source": [
    "from plyer import notification\n",
    "\n",
    "def alertaMensagem (titulo, mensagem):\n",
    "    notification.notify(\n",
    "        title = titulo,\n",
    "        message = mensagem\n",
    "    )\n",
    "\n",
    "notificacoes = (\n",
    "    (\"Missao de Emergencia\", \"Primeiros Passos\", \"Falha no carregamento da base de Primeiros Passos na etapa de Aprender Python.\"),\n",
    "    (\"Alerta do Holodeck\", \"Exploracao e Criatividade\", \"Falha no carregamento da base de Exploracao e Criatividade na etapa de criar um novo planeta no holodeck.\"),\n",
    "    (\"Analise de Dados\", \"Depuracao e Revisao\", \"Falha no carregamento da base de Depuracao e Revisao na etapa de detectar um bug no programa.\"),\n",
    "    (\"Relatorio do Capitao\", \"Conclusao\", \"Falha no carregamento da base de Conclusao na etapa de finalizar a tarefa.\")\n",
    ")\n",
    "\n",
    "\n",
    "list(map(lambda n: alertaMensagem(n[0], n[2]), notificacoes))\n"
   ]
  },
  {
   "cell_type": "code",
   "execution_count": null,
   "metadata": {
    "vscode": {
     "languageId": "plaintext"
    }
   },
   "outputs": [],
   "source": []
  }
 ],
 "metadata": {
  "language_info": {
   "name": "python"
  }
 },
 "nbformat": 4,
 "nbformat_minor": 2
}
