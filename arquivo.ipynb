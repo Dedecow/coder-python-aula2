{
 "cells": [
  {
   "cell_type": "code",
   "execution_count": null,
   "metadata": {
    "vscode": {
     "languageId": "plaintext"
    }
   },
   "outputs": [],
   "source": [
    "def calculo_imc(peso, altura):\n",
    "    imc = peso / (altura * altura)\n",
    "    return imc\n",
    "\n",
    "peso = float(input(\"Quantos Kg vc pesa?\"))\n",
    "altura = float(input (\"Diga sua altura em metros\"))\n",
    "\n",
    "imc_calculado = calculo_imc(peso, altura)\n",
    "\n",
    "print (f\" Seu IMC é: {imc_calculado: .2f}\")"
   ]
  },
  {
   "cell_type": "code",
   "execution_count": null,
   "metadata": {
    "vscode": {
     "languageId": "plaintext"
    }
   },
   "outputs": [],
   "source": [
    "lista = []\n",
    "numero = float(input(\"informe um número para a lista \"))\n",
    "lista.append(numero)\n"
   ]
  },
  {
   "cell_type": "code",
   "execution_count": null,
   "metadata": {
    "vscode": {
     "languageId": "plaintext"
    }
   },
   "outputs": [],
   "source": [
    "lista = []\n",
    "while True:\n",
    "nome = input(\"Digite um nome para adicionar a lista(ou 'sair' pra encerrar): \")\n",
    "if nome.lower() == 'sair':\n",
    "    break\n",
    "\n",
    "lista.append(nome)\n"
   ]
  }
 ],
 "metadata": {
  "language_info": {
   "name": "python"
  }
 },
 "nbformat": 4,
 "nbformat_minor": 2
}
