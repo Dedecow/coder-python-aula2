{
 "cells": [
  {
   "cell_type": "code",
   "execution_count": 1,
   "metadata": {},
   "outputs": [
    {
     "name": "stdout",
     "output_type": "stream",
     "text": [
      " Seu IMC é:  54.76\n"
     ]
    }
   ],
   "source": [
    "def calculo_imc(peso, altura):\n",
    "    imc = peso / (altura * altura)\n",
    "    return imc\n",
    "\n",
    "peso = float(input(\"Quantos Kg vc pesa?\"))\n",
    "altura = float(input (\"Diga sua altura em metros\"))\n",
    "\n",
    "imc_calculado = calculo_imc(peso, altura)\n",
    "\n",
    "print (f\" Seu IMC é: {imc_calculado: .2f}\")"
   ]
  },
  {
   "cell_type": "code",
   "execution_count": 2,
   "metadata": {},
   "outputs": [],
   "source": [
    "lista = []\n",
    "numero = float(input(\"informe um número para a lista \"))\n",
    "lista.append(numero)\n"
   ]
  },
  {
   "cell_type": "code",
   "execution_count": 3,
   "metadata": {},
   "outputs": [],
   "source": [
    "lista = []\n",
    "while True:\n",
    "    nome = input(\"Digite um nome para adicionar à lista (ou 'sair' para encerrar): \")\n",
    "    if nome.lower() == 'sair':\n",
    "        break\n",
    "    lista.append(nome)\n"
   ]
  }
 ],
 "metadata": {
  "kernelspec": {
   "display_name": "base",
   "language": "python",
   "name": "python3"
  },
  "language_info": {
   "codemirror_mode": {
    "name": "ipython",
    "version": 3
   },
   "file_extension": ".py",
   "mimetype": "text/x-python",
   "name": "python",
   "nbconvert_exporter": "python",
   "pygments_lexer": "ipython3",
   "version": "3.12.7"
  }
 },
 "nbformat": 4,
 "nbformat_minor": 2
}
